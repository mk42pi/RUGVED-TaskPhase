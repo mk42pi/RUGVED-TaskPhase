{
 "cells": [
  {
   "cell_type": "code",
   "execution_count": 7,
   "id": "682bf10e",
   "metadata": {},
   "outputs": [],
   "source": [
    "import os"
   ]
  },
  {
   "cell_type": "code",
   "execution_count": 14,
   "id": "40ad8137",
   "metadata": {},
   "outputs": [],
   "source": [
    "def rename_files(path, extension):\n",
    "    \n",
    "    os.chdir(path)\n",
    "    for (i,filename) in enumerate(os.listdir(path)):\n",
    "        os.rename(src=filename, dst='{}{}'.format(i,extension))"
   ]
  },
  {
   "cell_type": "code",
   "execution_count": 15,
   "id": "0e572c93",
   "metadata": {},
   "outputs": [],
   "source": [
    "rename_files('C:\\\\Users\\\\piyus\\\\imagetest\\\\frames', '.png')"
   ]
  }
 ],
 "metadata": {
  "kernelspec": {
   "display_name": "Python 3 (ipykernel)",
   "language": "python",
   "name": "python3"
  },
  "language_info": {
   "codemirror_mode": {
    "name": "ipython",
    "version": 3
   },
   "file_extension": ".py",
   "mimetype": "text/x-python",
   "name": "python",
   "nbconvert_exporter": "python",
   "pygments_lexer": "ipython3",
   "version": "3.9.7"
  }
 },
 "nbformat": 4,
 "nbformat_minor": 5
}
