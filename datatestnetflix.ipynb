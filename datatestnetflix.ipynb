{
 "cells": [
  {
   "cell_type": "code",
   "execution_count": 2,
   "id": "bc6bfaab",
   "metadata": {},
   "outputs": [],
   "source": [
    "import numpy as np\n",
    "import tkinter\n",
    "import pandas as pd\n",
    "import matplotlib\n",
    "import matplotlib.pyplot as plt\n",
    "matplotlib.use('Qt5Agg')\n",
    "from pandas_profiling import ProfileReport"
   ]
  },
  {
   "cell_type": "code",
   "execution_count": 3,
   "id": "34f2945d",
   "metadata": {},
   "outputs": [],
   "source": [
    "nf = pd.read_csv('netflixdatanew.csv')"
   ]
  },
  {
   "cell_type": "code",
   "execution_count": 4,
   "id": "3fcb2f16",
   "metadata": {},
   "outputs": [
    {
     "data": {
      "text/html": [
       "<div>\n",
       "<style scoped>\n",
       "    .dataframe tbody tr th:only-of-type {\n",
       "        vertical-align: middle;\n",
       "    }\n",
       "\n",
       "    .dataframe tbody tr th {\n",
       "        vertical-align: top;\n",
       "    }\n",
       "\n",
       "    .dataframe thead th {\n",
       "        text-align: right;\n",
       "    }\n",
       "</style>\n",
       "<table border=\"1\" class=\"dataframe\">\n",
       "  <thead>\n",
       "    <tr style=\"text-align: right;\">\n",
       "      <th></th>\n",
       "      <th>Country_code</th>\n",
       "      <th>Country</th>\n",
       "      <th>Total Library Size</th>\n",
       "      <th>No. of TV Shows</th>\n",
       "      <th>No. of Movies</th>\n",
       "      <th>Cost Per Month - Basic ($)</th>\n",
       "      <th>Cost Per Month - Standard ($)</th>\n",
       "      <th>Cost Per Month - Premium ($)</th>\n",
       "    </tr>\n",
       "  </thead>\n",
       "  <tbody>\n",
       "    <tr>\n",
       "      <th>0</th>\n",
       "      <td>ar</td>\n",
       "      <td>Argentina</td>\n",
       "      <td>4760</td>\n",
       "      <td>3154</td>\n",
       "      <td>1606</td>\n",
       "      <td>3.74</td>\n",
       "      <td>6.30</td>\n",
       "      <td>9.26</td>\n",
       "    </tr>\n",
       "    <tr>\n",
       "      <th>1</th>\n",
       "      <td>au</td>\n",
       "      <td>Australia</td>\n",
       "      <td>6114</td>\n",
       "      <td>4050</td>\n",
       "      <td>2064</td>\n",
       "      <td>7.84</td>\n",
       "      <td>12.12</td>\n",
       "      <td>16.39</td>\n",
       "    </tr>\n",
       "    <tr>\n",
       "      <th>2</th>\n",
       "      <td>at</td>\n",
       "      <td>Austria</td>\n",
       "      <td>5640</td>\n",
       "      <td>3779</td>\n",
       "      <td>1861</td>\n",
       "      <td>9.03</td>\n",
       "      <td>14.67</td>\n",
       "      <td>20.32</td>\n",
       "    </tr>\n",
       "    <tr>\n",
       "      <th>3</th>\n",
       "      <td>be</td>\n",
       "      <td>Belgium</td>\n",
       "      <td>4990</td>\n",
       "      <td>3374</td>\n",
       "      <td>1616</td>\n",
       "      <td>10.16</td>\n",
       "      <td>15.24</td>\n",
       "      <td>20.32</td>\n",
       "    </tr>\n",
       "    <tr>\n",
       "      <th>4</th>\n",
       "      <td>bo</td>\n",
       "      <td>Bolivia</td>\n",
       "      <td>4991</td>\n",
       "      <td>3155</td>\n",
       "      <td>1836</td>\n",
       "      <td>7.99</td>\n",
       "      <td>10.99</td>\n",
       "      <td>13.99</td>\n",
       "    </tr>\n",
       "  </tbody>\n",
       "</table>\n",
       "</div>"
      ],
      "text/plain": [
       "  Country_code    Country  Total Library Size  No. of TV Shows  No. of Movies  \\\n",
       "0           ar  Argentina                4760             3154           1606   \n",
       "1           au  Australia                6114             4050           2064   \n",
       "2           at    Austria                5640             3779           1861   \n",
       "3           be    Belgium                4990             3374           1616   \n",
       "4           bo    Bolivia                4991             3155           1836   \n",
       "\n",
       "   Cost Per Month - Basic ($)  Cost Per Month - Standard ($)  \\\n",
       "0                        3.74                           6.30   \n",
       "1                        7.84                          12.12   \n",
       "2                        9.03                          14.67   \n",
       "3                       10.16                          15.24   \n",
       "4                        7.99                          10.99   \n",
       "\n",
       "   Cost Per Month - Premium ($)  \n",
       "0                          9.26  \n",
       "1                         16.39  \n",
       "2                         20.32  \n",
       "3                         20.32  \n",
       "4                         13.99  "
      ]
     },
     "execution_count": 4,
     "metadata": {},
     "output_type": "execute_result"
    }
   ],
   "source": [
    "nf.head()"
   ]
  },
  {
   "cell_type": "code",
   "execution_count": 5,
   "id": "3b846451",
   "metadata": {},
   "outputs": [
    {
     "data": {
      "text/plain": [
       "(65, 8)"
      ]
     },
     "execution_count": 5,
     "metadata": {},
     "output_type": "execute_result"
    }
   ],
   "source": [
    "nf.shape"
   ]
  },
  {
   "cell_type": "code",
   "execution_count": 6,
   "id": "ad7341d7",
   "metadata": {},
   "outputs": [
    {
     "data": {
      "text/plain": [
       "Index(['Country_code', 'Country', 'Total Library Size', 'No. of TV Shows',\n",
       "       'No. of Movies', 'Cost Per Month - Basic ($)',\n",
       "       'Cost Per Month - Standard ($)', 'Cost Per Month - Premium ($)'],\n",
       "      dtype='object')"
      ]
     },
     "execution_count": 6,
     "metadata": {},
     "output_type": "execute_result"
    }
   ],
   "source": [
    "nf.columns"
   ]
  },
  {
   "cell_type": "code",
   "execution_count": 7,
   "id": "ae549e0b",
   "metadata": {},
   "outputs": [],
   "source": [
    "nf = nf.rename(columns = {'Country_code' : 'Country_Code', 'Total Library Size' : 'Library_Size', \n",
    "                         'No. of TV Shows' : 'No_TV_Shows', 'No. of Movies' : 'No_Movies', \n",
    "                         'Cost Per Month - Basic ($)' : 'Basic_Cost_Per_Month', \n",
    "                         'Cost Per Month - Standard ($)' : 'Standard_Cost_Per_Month', \n",
    "                         'Cost Per Month - Premium ($)' : 'Premium_Cost_Per_Month'})"
   ]
  },
  {
   "cell_type": "code",
   "execution_count": 8,
   "id": "eb09c17d",
   "metadata": {},
   "outputs": [
    {
     "data": {
      "text/html": [
       "<div>\n",
       "<style scoped>\n",
       "    .dataframe tbody tr th:only-of-type {\n",
       "        vertical-align: middle;\n",
       "    }\n",
       "\n",
       "    .dataframe tbody tr th {\n",
       "        vertical-align: top;\n",
       "    }\n",
       "\n",
       "    .dataframe thead th {\n",
       "        text-align: right;\n",
       "    }\n",
       "</style>\n",
       "<table border=\"1\" class=\"dataframe\">\n",
       "  <thead>\n",
       "    <tr style=\"text-align: right;\">\n",
       "      <th></th>\n",
       "      <th>Country_Code</th>\n",
       "      <th>Country</th>\n",
       "      <th>Library_Size</th>\n",
       "      <th>No_TV_Shows</th>\n",
       "      <th>No_Movies</th>\n",
       "      <th>Basic_Cost_Per_Month</th>\n",
       "      <th>Standard_Cost_Per_Month</th>\n",
       "      <th>Premium_Cost_Per_Month</th>\n",
       "    </tr>\n",
       "  </thead>\n",
       "  <tbody>\n",
       "    <tr>\n",
       "      <th>0</th>\n",
       "      <td>ar</td>\n",
       "      <td>Argentina</td>\n",
       "      <td>4760</td>\n",
       "      <td>3154</td>\n",
       "      <td>1606</td>\n",
       "      <td>3.74</td>\n",
       "      <td>6.30</td>\n",
       "      <td>9.26</td>\n",
       "    </tr>\n",
       "    <tr>\n",
       "      <th>1</th>\n",
       "      <td>au</td>\n",
       "      <td>Australia</td>\n",
       "      <td>6114</td>\n",
       "      <td>4050</td>\n",
       "      <td>2064</td>\n",
       "      <td>7.84</td>\n",
       "      <td>12.12</td>\n",
       "      <td>16.39</td>\n",
       "    </tr>\n",
       "    <tr>\n",
       "      <th>2</th>\n",
       "      <td>at</td>\n",
       "      <td>Austria</td>\n",
       "      <td>5640</td>\n",
       "      <td>3779</td>\n",
       "      <td>1861</td>\n",
       "      <td>9.03</td>\n",
       "      <td>14.67</td>\n",
       "      <td>20.32</td>\n",
       "    </tr>\n",
       "    <tr>\n",
       "      <th>3</th>\n",
       "      <td>be</td>\n",
       "      <td>Belgium</td>\n",
       "      <td>4990</td>\n",
       "      <td>3374</td>\n",
       "      <td>1616</td>\n",
       "      <td>10.16</td>\n",
       "      <td>15.24</td>\n",
       "      <td>20.32</td>\n",
       "    </tr>\n",
       "    <tr>\n",
       "      <th>4</th>\n",
       "      <td>bo</td>\n",
       "      <td>Bolivia</td>\n",
       "      <td>4991</td>\n",
       "      <td>3155</td>\n",
       "      <td>1836</td>\n",
       "      <td>7.99</td>\n",
       "      <td>10.99</td>\n",
       "      <td>13.99</td>\n",
       "    </tr>\n",
       "  </tbody>\n",
       "</table>\n",
       "</div>"
      ],
      "text/plain": [
       "  Country_Code    Country  Library_Size  No_TV_Shows  No_Movies  \\\n",
       "0           ar  Argentina          4760         3154       1606   \n",
       "1           au  Australia          6114         4050       2064   \n",
       "2           at    Austria          5640         3779       1861   \n",
       "3           be    Belgium          4990         3374       1616   \n",
       "4           bo    Bolivia          4991         3155       1836   \n",
       "\n",
       "   Basic_Cost_Per_Month  Standard_Cost_Per_Month  Premium_Cost_Per_Month  \n",
       "0                  3.74                     6.30                    9.26  \n",
       "1                  7.84                    12.12                   16.39  \n",
       "2                  9.03                    14.67                   20.32  \n",
       "3                 10.16                    15.24                   20.32  \n",
       "4                  7.99                    10.99                   13.99  "
      ]
     },
     "execution_count": 8,
     "metadata": {},
     "output_type": "execute_result"
    }
   ],
   "source": [
    "nf.head()"
   ]
  },
  {
   "cell_type": "code",
   "execution_count": 9,
   "id": "0756f301",
   "metadata": {},
   "outputs": [
    {
     "data": {
      "text/plain": [
       "Country_Code                object\n",
       "Country                     object\n",
       "Library_Size                 int64\n",
       "No_TV_Shows                  int64\n",
       "No_Movies                    int64\n",
       "Basic_Cost_Per_Month       float64\n",
       "Standard_Cost_Per_Month    float64\n",
       "Premium_Cost_Per_Month     float64\n",
       "dtype: object"
      ]
     },
     "execution_count": 9,
     "metadata": {},
     "output_type": "execute_result"
    }
   ],
   "source": [
    "nf.dtypes"
   ]
  },
  {
   "cell_type": "code",
   "execution_count": 10,
   "id": "b36de633",
   "metadata": {},
   "outputs": [
    {
     "data": {
      "text/plain": [
       "Country_Code               0\n",
       "Country                    0\n",
       "Library_Size               0\n",
       "No_TV_Shows                0\n",
       "No_Movies                  0\n",
       "Basic_Cost_Per_Month       0\n",
       "Standard_Cost_Per_Month    0\n",
       "Premium_Cost_Per_Month     0\n",
       "dtype: int64"
      ]
     },
     "execution_count": 10,
     "metadata": {},
     "output_type": "execute_result"
    }
   ],
   "source": [
    "nf.isnull().sum()"
   ]
  },
  {
   "cell_type": "code",
   "execution_count": 11,
   "id": "1adcd15d",
   "metadata": {},
   "outputs": [
    {
     "data": {
      "text/html": [
       "<div>\n",
       "<style scoped>\n",
       "    .dataframe tbody tr th:only-of-type {\n",
       "        vertical-align: middle;\n",
       "    }\n",
       "\n",
       "    .dataframe tbody tr th {\n",
       "        vertical-align: top;\n",
       "    }\n",
       "\n",
       "    .dataframe thead th {\n",
       "        text-align: right;\n",
       "    }\n",
       "</style>\n",
       "<table border=\"1\" class=\"dataframe\">\n",
       "  <thead>\n",
       "    <tr style=\"text-align: right;\">\n",
       "      <th></th>\n",
       "      <th>Country_Code</th>\n",
       "      <th>Country</th>\n",
       "    </tr>\n",
       "  </thead>\n",
       "  <tbody>\n",
       "    <tr>\n",
       "      <th>count</th>\n",
       "      <td>65</td>\n",
       "      <td>65</td>\n",
       "    </tr>\n",
       "    <tr>\n",
       "      <th>unique</th>\n",
       "      <td>65</td>\n",
       "      <td>65</td>\n",
       "    </tr>\n",
       "    <tr>\n",
       "      <th>top</th>\n",
       "      <td>ar</td>\n",
       "      <td>Argentina</td>\n",
       "    </tr>\n",
       "    <tr>\n",
       "      <th>freq</th>\n",
       "      <td>1</td>\n",
       "      <td>1</td>\n",
       "    </tr>\n",
       "  </tbody>\n",
       "</table>\n",
       "</div>"
      ],
      "text/plain": [
       "       Country_Code    Country\n",
       "count            65         65\n",
       "unique           65         65\n",
       "top              ar  Argentina\n",
       "freq              1          1"
      ]
     },
     "execution_count": 11,
     "metadata": {},
     "output_type": "execute_result"
    }
   ],
   "source": [
    "nf.describe(include = 'object')"
   ]
  },
  {
   "cell_type": "code",
   "execution_count": 12,
   "id": "79817757",
   "metadata": {},
   "outputs": [
    {
     "data": {
      "text/plain": [
       "array(['ar', 'au', 'at', 'be', 'bo', 'br', 'bg', 'ca', 'cl', 'co', 'cr',\n",
       "       'hr', 'cz', 'dk', 'ec', 'ee', 'fi', 'fr', 'de', 'gi', 'gr', 'gt',\n",
       "       'hn', 'hk', 'hu', 'is', 'in', 'id', 'ie', 'il', 'it', 'jp', 'lv',\n",
       "       'li', 'lt', 'my', 'mx', 'md', 'mc', 'nl', 'nz', 'no', 'py', 'pe',\n",
       "       'ph', 'pl', 'pt', 'ro', 'ru', 'sm', 'sg', 'sk', 'za', 'kr', 'es',\n",
       "       'se', 'ch', 'tw', 'th', 'tr', 'ua', 'gb', 'us', 'uy', 've'],\n",
       "      dtype=object)"
      ]
     },
     "execution_count": 12,
     "metadata": {},
     "output_type": "execute_result"
    }
   ],
   "source": [
    "nf['Country_Code'].unique()"
   ]
  },
  {
   "cell_type": "code",
   "execution_count": 13,
   "id": "a24754c0",
   "metadata": {},
   "outputs": [
    {
     "data": {
      "text/plain": [
       "ar    1\n",
       "li    1\n",
       "my    1\n",
       "mx    1\n",
       "md    1\n",
       "     ..\n",
       "id    1\n",
       "ie    1\n",
       "il    1\n",
       "it    1\n",
       "ve    1\n",
       "Name: Country_Code, Length: 65, dtype: int64"
      ]
     },
     "execution_count": 13,
     "metadata": {},
     "output_type": "execute_result"
    }
   ],
   "source": [
    "nf['Country_Code'].value_counts()"
   ]
  },
  {
   "cell_type": "code",
   "execution_count": 14,
   "id": "bb4442a8",
   "metadata": {},
   "outputs": [
    {
     "data": {
      "text/plain": [
       "array(['Argentina', 'Australia', 'Austria', 'Belgium', 'Bolivia',\n",
       "       'Brazil', 'Bulgaria', 'Canada', 'Chile', 'Colombia', 'Costa Rica',\n",
       "       'Croatia', 'Czechia', 'Denmark', 'Ecuador', 'Estonia', 'Finland',\n",
       "       'France', 'Germany', 'Gibraltar', 'Greece', 'Guatemala',\n",
       "       'Honduras', 'Hong Kong', 'Hungary', 'Iceland', 'India',\n",
       "       'Indonesia', 'Ireland', 'Israel', 'Italy', 'Japan', 'Latvia',\n",
       "       'Liechtenstein', 'Lithuania', 'Malaysia', 'Mexico', 'Moldova',\n",
       "       'Monaco', 'Netherlands', 'New Zealand', 'Norway', 'Paraguay',\n",
       "       'Peru', 'Philippines', 'Poland', 'Portugal', 'Romania', 'Russia',\n",
       "       'San Marino', 'Singapore', 'Slovakia', 'South Africa',\n",
       "       'South Korea', 'Spain', 'Sweden', 'Switzerland', 'Taiwan',\n",
       "       'Thailand', 'Turkey', 'Ukraine', 'United Kingdom', 'United States',\n",
       "       'Uruguay', 'Venezuela'], dtype=object)"
      ]
     },
     "execution_count": 14,
     "metadata": {},
     "output_type": "execute_result"
    }
   ],
   "source": [
    "nf['Country'].unique()"
   ]
  },
  {
   "cell_type": "code",
   "execution_count": 17,
   "id": "b934d740",
   "metadata": {},
   "outputs": [],
   "source": [
    "plt.figure(figsize = (12,6))\n",
    "top_15_country = nf['Country'][:15]\n",
    "chart = nf.groupby(top_15_country)['Basic_Cost_Per_Month'].sum().sort_values(ascending = False).plot(kind = 'bar', color = 'seagreen')\n",
    "chart.set_xticklabels(chart.get_xticklabels(), rotation = 45)\n",
    "plt.title('Top 15 countries based on Total Basic Cost Per Month', fontsize = 16, pad = 14)\n",
    "plt.xlabel('Country', fontsize = 14)\n",
    "plt.ylabel('Total Basic Cost Per Month ($)', fontsize = 14)\n",
    "plt.savefig(\"basic_cost\", facecolor='w', bbox_inches=\"tight\", pad_inches=0.3, transparent=True)"
   ]
  },
  {
   "cell_type": "code",
   "execution_count": 18,
   "id": "ff14f3d0",
   "metadata": {},
   "outputs": [],
   "source": [
    "plt.figure(figsize = (12,6))\n",
    "chart = nf.groupby(top_15_country)['Premium_Cost_Per_Month'].sum().sort_values(ascending = False).plot(kind = 'bar', color = 'peru')\n",
    "chart.set_xticklabels(chart.get_xticklabels(), rotation = 45)\n",
    "plt.title('Top 15 of Country based on Total Premium Cost Per Month', fontsize = 16, pad = 14)\n",
    "plt.xlabel('Country', fontsize = 14)\n",
    "plt.ylabel('Total Premium Cost Per Month ($)', fontsize = 14)\n",
    "plt.savefig(\"premium_cost\", facecolor='w', bbox_inches=\"tight\", pad_inches=0.3, transparent=True)"
   ]
  }
 ],
 "metadata": {
  "kernelspec": {
   "display_name": "Python 3 (ipykernel)",
   "language": "python",
   "name": "python3"
  },
  "language_info": {
   "codemirror_mode": {
    "name": "ipython",
    "version": 3
   },
   "file_extension": ".py",
   "mimetype": "text/x-python",
   "name": "python",
   "nbconvert_exporter": "python",
   "pygments_lexer": "ipython3",
   "version": "3.9.7"
  }
 },
 "nbformat": 4,
 "nbformat_minor": 5
}
